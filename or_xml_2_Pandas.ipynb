{
 "cells": [
  {
   "cell_type": "code",
   "execution_count": 1,
   "metadata": {},
   "outputs": [
    {
     "data": {
      "text/html": [
       "<style>.container { width:80% !important; }</style>"
      ],
      "text/plain": [
       "<IPython.core.display.HTML object>"
      ]
     },
     "metadata": {},
     "output_type": "display_data"
    }
   ],
   "source": [
    "from IPython.core.display import display, HTML\n",
    "display(HTML(\"<style>.container { width:80% !important; }</style>\"))"
   ]
  },
  {
   "cell_type": "code",
   "execution_count": 2,
   "metadata": {},
   "outputs": [
    {
     "data": {
      "text/html": [
       "<div>\n",
       "<style scoped>\n",
       "    .dataframe tbody tr th:only-of-type {\n",
       "        vertical-align: middle;\n",
       "    }\n",
       "\n",
       "    .dataframe tbody tr th {\n",
       "        vertical-align: top;\n",
       "    }\n",
       "\n",
       "    .dataframe thead th {\n",
       "        text-align: right;\n",
       "    }\n",
       "</style>\n",
       "<table border=\"1\" class=\"dataframe\">\n",
       "  <thead>\n",
       "    <tr style=\"text-align: right;\">\n",
       "      <th></th>\n",
       "      <th>ICO</th>\n",
       "      <th>Aktualizace_DB</th>\n",
       "      <th>Datum_vypisu</th>\n",
       "      <th>Stav_subjektu</th>\n",
       "      <th>Konkurz</th>\n",
       "      <th>Vyrovnani</th>\n",
       "      <th>Zamitnuti</th>\n",
       "      <th>Likvidace</th>\n",
       "      <th>Datum_zapisu_OR</th>\n",
       "      <th>Kod_PF</th>\n",
       "      <th>Nazev_PF</th>\n",
       "      <th>PF_osoba</th>\n",
       "      <th>TZU_osoba</th>\n",
       "    </tr>\n",
       "  </thead>\n",
       "  <tbody>\n",
       "    <tr>\n",
       "      <th>0</th>\n",
       "      <td>63275635</td>\n",
       "      <td>2018-08-22</td>\n",
       "      <td>2018-08-23</td>\n",
       "      <td>Aktivní</td>\n",
       "      <td>0</td>\n",
       "      <td>0</td>\n",
       "      <td>0</td>\n",
       "      <td>0</td>\n",
       "      <td>1995-08-01</td>\n",
       "      <td>121</td>\n",
       "      <td>Akciová společnost</td>\n",
       "      <td>P</td>\n",
       "      <td>Tuzemská</td>\n",
       "    </tr>\n",
       "  </tbody>\n",
       "</table>\n",
       "</div>"
      ],
      "text/plain": [
       "        ICO Aktualizace_DB Datum_vypisu Stav_subjektu Konkurz Vyrovnani  \\\n",
       "0  63275635     2018-08-22   2018-08-23       Aktivní       0         0   \n",
       "\n",
       "  Zamitnuti Likvidace Datum_zapisu_OR Kod_PF            Nazev_PF PF_osoba  \\\n",
       "0         0         0      1995-08-01    121  Akciová společnost        P   \n",
       "\n",
       "  TZU_osoba  \n",
       "0  Tuzemská  "
      ]
     },
     "execution_count": 2,
     "metadata": {},
     "output_type": "execute_result"
    }
   ],
   "source": [
    "from lxml import etree as ET\n",
    "import pandas as pd\n",
    "xml_data = ET.parse(\"darv_or.xml\")\n",
    "or_namespaces = {'are': 'http://wwwinfo.mfcr.cz/ares/xml_doc/schemas/ares/ares_answer_or/v_1.0.2', \n",
    "              'dtt': 'http://wwwinfo.mfcr.cz/ares/xml_doc/schemas/ares/ares_datatypes/v_1.0.2',\n",
    "              'udt': 'http://wwwinfo.mfcr.cz/ares/xml_doc/schemas/uvis_datatypes/v_1.0.1',\n",
    "              'xsi': 'http://www.w3.org/2001/XMLSchema-instance'\n",
    "             }\n",
    "or_basic_info = []\n",
    "\n",
    "# Vypis Vypis_OR/Uvod\n",
    "Aktualizace_DB = xml_data.xpath('./are:Odpoved/dtt:Vypis_OR/dtt:Uvod/dtt:Aktualizace_DB',namespaces = or_namespaces)[0].text\n",
    "Datum_vypisu = xml_data.xpath('./are:Odpoved/dtt:Vypis_OR/dtt:Uvod/dtt:Datum_vypisu',namespaces = or_namespaces)[0].text\n",
    "\n",
    "# Zakladni_udaje\n",
    "ICO = xml_data.xpath('./are:Odpoved/dtt:Vypis_OR/dtt:Zakladni_udaje/dtt:ICO',namespaces = or_namespaces)[0].text\n",
    "Stav_subjektu = xml_data.xpath('./are:Odpoved/dtt:Vypis_OR/dtt:Zakladni_udaje/dtt:Stav/dtt:Stav_subjektu',namespaces = or_namespaces)[0].text\n",
    "Konkurz = xml_data.xpath('./are:Odpoved/dtt:Vypis_OR/dtt:Zakladni_udaje/dtt:Stav/dtt:Konkurz/dtt:Kod',namespaces = or_namespaces)[0].text\n",
    "Vyrovnani = xml_data.xpath('./are:Odpoved/dtt:Vypis_OR/dtt:Zakladni_udaje/dtt:Stav/dtt:Vyrovnani/dtt:Kod',namespaces = or_namespaces)[0].text\n",
    "Zamitnuti = xml_data.xpath('./are:Odpoved/dtt:Vypis_OR/dtt:Zakladni_udaje/dtt:Stav/dtt:Zamitnuti/dtt:Kod',namespaces = or_namespaces)[0].text\n",
    "Likvidace = xml_data.xpath('./are:Odpoved/dtt:Vypis_OR/dtt:Zakladni_udaje/dtt:Stav/dtt:Likvidace/dtt:Kod',namespaces = or_namespaces)[0].text\n",
    "Datum_zapisu_OR = xml_data.xpath('./are:Odpoved/dtt:Vypis_OR/dtt:Zakladni_udaje/dtt:Datum_zapisu_OR',namespaces = or_namespaces)[0].text\n",
    "\n",
    "# Pravni_forma_OR\n",
    "Kod_PF = xml_data.xpath('./are:Odpoved/dtt:Vypis_OR/dtt:Zakladni_udaje/dtt:Pravni_forma_OR/dtt:Kod_PF',namespaces = or_namespaces)[0].text\n",
    "Nazev_PF = xml_data.xpath('./are:Odpoved/dtt:Vypis_OR/dtt:Zakladni_udaje/dtt:Pravni_forma_OR/dtt:Nazev_PF',namespaces = or_namespaces)[0].text\n",
    "PF_osoba = xml_data.xpath('./are:Odpoved/dtt:Vypis_OR/dtt:Zakladni_udaje/dtt:Pravni_forma_OR/dtt:PF_osoba',namespaces = or_namespaces)[0].text\n",
    "TZU_osoba = xml_data.xpath('./are:Odpoved/dtt:Vypis_OR/dtt:Zakladni_udaje/dtt:Pravni_forma_OR/dtt:TZU_osoba',namespaces = or_namespaces)[0].text\n",
    "\n",
    "or_basic_info_columns = [\"ICO\",\"Aktualizace_DB\",\"Datum_vypisu\",\"Stav_subjektu\",\"Konkurz\",\"Vyrovnani\",\n",
    "                        \"Zamitnuti\",\"Likvidace\",\"Datum_zapisu_OR\",\"Kod_PF\",\"Nazev_PF\",\"PF_osoba\",\"TZU_osoba\"]\n",
    "\n",
    "or_basic_info_increment = [ICO, Aktualizace_DB, Datum_vypisu,Stav_subjektu,Konkurz,Vyrovnani,Zamitnuti,Likvidace,Datum_zapisu_OR,Kod_PF,\n",
    "                     Nazev_PF,PF_osoba,TZU_osoba]\n",
    "or_basic_info.append(or_basic_info_increment)\n",
    "or_basic_info_pd = pd.DataFrame(or_basic_info,columns=or_basic_info_columns)\n",
    "   \n",
    "or_basic_info_pd.head(5)"
   ]
  },
  {
   "cell_type": "code",
   "execution_count": 3,
   "metadata": {},
   "outputs": [
    {
     "ename": "IndexError",
     "evalue": "list index out of range",
     "output_type": "error",
     "traceback": [
      "\u001b[1;31m---------------------------------------------------------------------------\u001b[0m",
      "\u001b[1;31mIndexError\u001b[0m                                Traceback (most recent call last)",
      "\u001b[1;32m<ipython-input-3-0d22568dec6f>\u001b[0m in \u001b[0;36m<module>\u001b[1;34m()\u001b[0m\n\u001b[0;32m     17\u001b[0m     \u001b[0mCislo_orientacni\u001b[0m \u001b[1;33m=\u001b[0m \u001b[0melem\u001b[0m\u001b[1;33m.\u001b[0m\u001b[0mxpath\u001b[0m\u001b[1;33m(\u001b[0m\u001b[1;34m'./dtt:Cislo_orientacni'\u001b[0m\u001b[1;33m,\u001b[0m\u001b[0mnamespaces\u001b[0m \u001b[1;33m=\u001b[0m \u001b[0mor_namespaces\u001b[0m\u001b[1;33m)\u001b[0m\u001b[1;33m[\u001b[0m\u001b[1;36m0\u001b[0m\u001b[1;33m]\u001b[0m\u001b[1;33m.\u001b[0m\u001b[0mtext\u001b[0m\u001b[1;33m\u001b[0m\u001b[0m\n\u001b[0;32m     18\u001b[0m     \u001b[0mPSC\u001b[0m \u001b[1;33m=\u001b[0m \u001b[0melem\u001b[0m\u001b[1;33m.\u001b[0m\u001b[0mxpath\u001b[0m\u001b[1;33m(\u001b[0m\u001b[1;34m'./dtt:PSC'\u001b[0m\u001b[1;33m,\u001b[0m\u001b[0mnamespaces\u001b[0m \u001b[1;33m=\u001b[0m \u001b[0mor_namespaces\u001b[0m\u001b[1;33m)\u001b[0m\u001b[1;33m[\u001b[0m\u001b[1;36m0\u001b[0m\u001b[1;33m]\u001b[0m\u001b[1;33m.\u001b[0m\u001b[0mtext\u001b[0m\u001b[1;33m\u001b[0m\u001b[0m\n\u001b[1;32m---> 19\u001b[1;33m     \u001b[0mCislo_do_adresy\u001b[0m \u001b[1;33m=\u001b[0m \u001b[0melem\u001b[0m\u001b[1;33m.\u001b[0m\u001b[0mxpath\u001b[0m\u001b[1;33m(\u001b[0m\u001b[1;34m'./dtt:Cislo_do_adresy'\u001b[0m\u001b[1;33m,\u001b[0m\u001b[0mnamespaces\u001b[0m \u001b[1;33m=\u001b[0m \u001b[0mor_namespaces\u001b[0m\u001b[1;33m)\u001b[0m\u001b[1;33m[\u001b[0m\u001b[1;36m0\u001b[0m\u001b[1;33m]\u001b[0m\u001b[1;33m.\u001b[0m\u001b[0mtext\u001b[0m\u001b[1;33m\u001b[0m\u001b[0m\n\u001b[0m\u001b[0;32m     20\u001b[0m     or_sidlo_increment = [ICO,ID_Adresy,Kod_statu,Nazev_statu,Nazev_okresu,Nazev_obce,Nazev_casti_obce,Nazev_ulice,Cislo_domovni,\n\u001b[0;32m     21\u001b[0m                           Typ_cislo_domovni,Cislo_orientacni,PSC, Cislo_do_adresy]\n",
      "\u001b[1;31mIndexError\u001b[0m: list index out of range"
     ]
    }
   ],
   "source": [
    "# Sidlo\n",
    "or_sidlo = []\n",
    "or_sidlo_columns = [\"ICO\",\"ID_Adresy\",\"Kod_statu\",\"Nazev_statu\",\"Nazev_okresu\",\"Nazev_obce\",\n",
    "                    \"Nazev_casti_obce\",\"Nazev_ulice\",\"Cislo_domovni\",\"Typ_cislo_domovni\",\"Cislo_orientacni\",\"PSC\",\"Cislo_do_adresy\"]\n",
    "\n",
    "Sidlo = xml_data.xpath('./are:Odpoved/dtt:Vypis_OR/dtt:Zakladni_udaje/dtt:Sidlo',namespaces = or_namespaces)\n",
    "for elem in Sidlo:\n",
    "    ID_Adresy = elem.xpath('./dtt:ID_adresy',namespaces = or_namespaces)[0].text\n",
    "    Kod_statu = elem.xpath('./dtt:Kod_statu',namespaces = or_namespaces)[0].text\n",
    "    Nazev_statu = elem.xpath('./dtt:Nazev_statu',namespaces = or_namespaces)[0].text\n",
    "    Nazev_okresu = elem.xpath('./dtt:Nazev_okresu',namespaces = or_namespaces)[0].text\n",
    "    Nazev_obce = elem.xpath('./dtt:Nazev_obce',namespaces = or_namespaces)[0].text\n",
    "    Nazev_casti_obce = elem.xpath('./dtt:Nazev_casti_obce',namespaces = or_namespaces)[0].text\n",
    "    Nazev_ulice = elem.xpath('./dtt:Nazev_ulice',namespaces = or_namespaces)[0].text\n",
    "    Cislo_domovni = elem.xpath('./dtt:Cislo_domovni',namespaces = or_namespaces)[0].text\n",
    "    Typ_cislo_domovni = elem.xpath('./dtt:Typ_cislo_domovni',namespaces = or_namespaces)[0].text\n",
    "    Cislo_orientacni = elem.xpath('./dtt:Cislo_orientacni',namespaces = or_namespaces)[0].text\n",
    "    PSC = elem.xpath('./dtt:PSC',namespaces = or_namespaces)[0].text\n",
    "    Cislo_do_adresy = elem.xpath('./dtt:Cislo_do_adresy',namespaces = or_namespaces)[0].text\n",
    "    or_sidlo_increment = [ICO,ID_Adresy,Kod_statu,Nazev_statu,Nazev_okresu,Nazev_obce,Nazev_casti_obce,Nazev_ulice,Cislo_domovni,\n",
    "                          Typ_cislo_domovni,Cislo_orientacni,PSC, Cislo_do_adresy]\n",
    "    or_sidlo.append(or_sidlo_increment)\n",
    "or_sidlo_pd = pd.DataFrame(or_sidlo,columns = or_sidlo_columns)\n",
    "  \n",
    "    \n"
   ]
  },
  {
   "cell_type": "code",
   "execution_count": 9,
   "metadata": {},
   "outputs": [
    {
     "ename": "SyntaxError",
     "evalue": "invalid syntax (<ipython-input-9-905262a3bd88>, line 7)",
     "output_type": "error",
     "traceback": [
      "\u001b[1;36m  File \u001b[1;32m\"<ipython-input-9-905262a3bd88>\"\u001b[1;36m, line \u001b[1;32m7\u001b[0m\n\u001b[1;33m    ID_Adresy = chck(elem.xpath('./dtt:ID_adresy',namespaces = or_namespaces)chck(elem.xpath('./dtt:ID_adresy',namespaces = or_namespaces))\u001b[0m\n\u001b[1;37m                                                                                ^\u001b[0m\n\u001b[1;31mSyntaxError\u001b[0m\u001b[1;31m:\u001b[0m invalid syntax\n"
     ]
    }
   ],
   "source": [
    "# Sidlo\n",
    "or_sidlo = []\n",
    "or_sidlo_columns = [\"ICO\",\"ID_Adresy\",\"Cislo_do_adresy\"]\n",
    "\n",
    "Sidlo = xml_data.xpath('./are:Odpoved/dtt:Vypis_OR/dtt:Zakladni_udaje/dtt:Sidlo',namespaces = or_namespaces)\n",
    "for elem in Sidlo:\n",
    "    ID_Adresy = chck(elem.xpath('./dtt:ID_adresy',namespaces = or_namespaces)chck(elem.xpath('./dtt:ID_adresy',namespaces = or_namespaces))\n",
    "    \n",
    "    Cislo_do_adresy = chck(elem.xpath('./dtt:Cislo_do_adresy',namespaces = or_namespaces))\n",
    "    or_sidlo_increment = [ICO,ID_Adresy,Cislo_do_adresy]\n",
    "    or_sidlo.append(or_sidlo_increment)\n",
    "or_sidlo_pd = pd.DataFrame(or_sidlo,columns = or_sidlo_columns)\n",
    "or_sidlo_pd.head(5)"
   ]
  },
  {
   "cell_type": "code",
   "execution_count": 5,
   "metadata": {},
   "outputs": [
    {
     "ename": "IndexError",
     "evalue": "list index out of range",
     "output_type": "error",
     "traceback": [
      "\u001b[1;31m---------------------------------------------------------------------------\u001b[0m",
      "\u001b[1;31mIndexError\u001b[0m                                Traceback (most recent call last)",
      "\u001b[1;32m<ipython-input-5-d3b3f917a3fc>\u001b[0m in \u001b[0;36m<module>\u001b[1;34m()\u001b[0m\n\u001b[0;32m     27\u001b[0m \u001b[1;32mfor\u001b[0m \u001b[0melem\u001b[0m \u001b[1;32min\u001b[0m \u001b[0mSidlo\u001b[0m\u001b[1;33m:\u001b[0m\u001b[1;33m\u001b[0m\u001b[0m\n\u001b[0;32m     28\u001b[0m     \u001b[1;32mfor\u001b[0m \u001b[0mrec\u001b[0m \u001b[1;32min\u001b[0m \u001b[0msidlo_table_columns\u001b[0m\u001b[1;33m:\u001b[0m\u001b[1;33m\u001b[0m\u001b[0m\n\u001b[1;32m---> 29\u001b[1;33m         \u001b[0mrec\u001b[0m\u001b[1;33m[\u001b[0m\u001b[1;36m0\u001b[0m\u001b[1;33m]\u001b[0m \u001b[1;33m=\u001b[0m \u001b[0mset_tag_value\u001b[0m\u001b[1;33m(\u001b[0m\u001b[0mrec\u001b[0m\u001b[1;33m[\u001b[0m\u001b[1;36m1\u001b[0m\u001b[1;33m]\u001b[0m\u001b[1;33m,\u001b[0m \u001b[0melem\u001b[0m\u001b[1;33m)\u001b[0m\u001b[1;33m\u001b[0m\u001b[0m\n\u001b[0m\u001b[0;32m     30\u001b[0m \u001b[1;33m\u001b[0m\u001b[0m\n\u001b[0;32m     31\u001b[0m \u001b[1;33m\u001b[0m\u001b[0m\n",
      "\u001b[1;32m<ipython-input-5-d3b3f917a3fc>\u001b[0m in \u001b[0;36mset_tag_value\u001b[1;34m(attr_xpath, elem)\u001b[0m\n\u001b[0;32m     19\u001b[0m \u001b[1;32mdef\u001b[0m \u001b[0mset_tag_value\u001b[0m\u001b[1;33m(\u001b[0m\u001b[0mattr_xpath\u001b[0m\u001b[1;33m,\u001b[0m \u001b[0melem\u001b[0m\u001b[1;33m)\u001b[0m\u001b[1;33m:\u001b[0m\u001b[1;33m\u001b[0m\u001b[0m\n\u001b[0;32m     20\u001b[0m     \u001b[1;32mif\u001b[0m \u001b[0melem\u001b[0m \u001b[1;32mis\u001b[0m \u001b[1;32mnot\u001b[0m \u001b[1;32mNone\u001b[0m\u001b[1;33m:\u001b[0m\u001b[1;33m\u001b[0m\u001b[0m\n\u001b[1;32m---> 21\u001b[1;33m         \u001b[0mattr_value\u001b[0m \u001b[1;33m=\u001b[0m \u001b[0melem\u001b[0m\u001b[1;33m.\u001b[0m\u001b[0mxpath\u001b[0m\u001b[1;33m(\u001b[0m\u001b[0mattr_xpath\u001b[0m\u001b[1;33m,\u001b[0m\u001b[0mnamespaces\u001b[0m \u001b[1;33m=\u001b[0m \u001b[0mor_namespaces\u001b[0m\u001b[1;33m)\u001b[0m\u001b[1;33m[\u001b[0m\u001b[1;36m0\u001b[0m\u001b[1;33m]\u001b[0m\u001b[1;33m.\u001b[0m\u001b[0mtext\u001b[0m\u001b[1;33m\u001b[0m\u001b[0m\n\u001b[0m\u001b[0;32m     22\u001b[0m     \u001b[1;32melse\u001b[0m\u001b[1;33m:\u001b[0m\u001b[1;33m\u001b[0m\u001b[0m\n\u001b[0;32m     23\u001b[0m         \u001b[0mattr_value\u001b[0m \u001b[1;33m=\u001b[0m \u001b[1;32mNone\u001b[0m\u001b[1;33m\u001b[0m\u001b[0m\n",
      "\u001b[1;31mIndexError\u001b[0m: list index out of range"
     ]
    }
   ],
   "source": [
    "# attr_name, xpath, elem_name\n",
    "Sidlo = xml_data.xpath('./are:Odpoved/dtt:Vypis_OR/dtt:Zakladni_udaje/dtt:Sidlo',namespaces = or_namespaces)\n",
    "\n",
    "sidlo_table_columns = [\n",
    "    ['ID_Adresy','./dtt:ID_Adresy'],\n",
    "    ['Kod_statu','./dtt:Kod_statu'],\n",
    "    ['Nazev_statu','./dtt:Nazev_statu'],\n",
    "    ['Nazev_okresu','./dtt:Nazev_okresu'],\n",
    "    ['Nazev_obce','./dtt:Nazev_obce'],\n",
    "    ['Nazev_casti_obce','./dtt:Nazev_casti_obce'],\n",
    "    ['Nazev_ulice','./dtt:Nazev_ulice'],\n",
    "    ['Cislo_domovni','./dtt:Cislo_domovni','Sidlo'],\n",
    "    ['Typ_cislo_domovni','./dtt:Typ_cislo_domovni'],\n",
    "    ['Cislo_orientacni','./dtt:Cislo_orientacni'],\n",
    "    ['PSC','./dtt:PSC'],\n",
    "    ['Cislo_do_adresy','./dtt:Cislo_do_adresy']\n",
    "                      ]\n",
    "\n",
    "def set_tag_value(attr_xpath, elem):\n",
    "    if elem is not None:\n",
    "        tag_value = elem.xpath(attr_xpath,namespaces = or_namespaces)[0].text\n",
    "    else:\n",
    "        attr_value = None\n",
    "    return tag_value\n",
    "\n",
    "Sidlo = xml_data.xpath('./are:Odpoved/dtt:Vypis_OR/dtt:Zakladni_udaje/dtt:Sidlo',namespaces = or_namespaces)\n",
    "for elem in Sidlo:        \n",
    "    for rec in sidlo_table_columns:\n",
    "        rec[0] = set_tag_value(rec[1], elem)\n",
    "        \n",
    "    "
   ]
  },
  {
   "cell_type": "code",
   "execution_count": 105,
   "metadata": {},
   "outputs": [],
   "source": [
    "sidlo_table_columns_pd = pd.DataFrame([\n",
    "    ['ID_Adresy','./dtt:ID_Adresy',Sidlo],\n",
    "    ['Kod_statu','./dtt:Kod_statu',Sidlo],\n",
    "    ['Nazev_statu','./dtt:Nazev_statu',Sidlo],\n",
    "    ['Nazev_okresu','./dtt:Nazev_okresu',Sidlo],\n",
    "    ['Nazev_obce','./dtt:Nazev_obce',Sidlo],\n",
    "    ['Nazev_casti_obce','./dtt:Nazev_casti_obce',Sidlo],\n",
    "    ['Nazev_ulice','./dtt:Nazev_ulice',Sidlo],\n",
    "    ['Cislo_domovni','./dtt:Cislo_domovni','Sidlo'],\n",
    "    ['Typ_cislo_domovni','./dtt:Typ_cislo_domovni',Sidlo],\n",
    "    ['Cislo_orientacni','./dtt:Cislo_orientacni',Sidlo],\n",
    "    ['PSC','./dtt:PSC',Sidlo],\n",
    "    ['Cislo_do_adresy','./dtt:Cislo_do_adresy',Sidlo]\n",
    "                      ],columns=(\"Tag\",\"xpath\",'Element'))\n",
    "\n",
    "sidlo_table_columns_lst = [\n",
    "    ['ID_adresy','./dtt:ID_adresy'],\n",
    "    ['Kod_statu','./dtt:Kod_statu'],\n",
    "    ['Nazev_statu','./dtt:Nazev_statu'],\n",
    "    ['Nazev_okresu','./dtt:Nazev_okresu'],\n",
    "    ['Nazev_obce','./dtt:Nazev_obce'],\n",
    "    ['Nazev_casti_obce','./dtt:Nazev_casti_obce'],\n",
    "    ['Nazev_ulice','./dtt:Nazev_ulice'],\n",
    "    ['Cislo_domovni','./dtt:Cislo_domovni','Sidlo'],\n",
    "    ['Typ_cislo_domovni','./dtt:Typ_cislo_domovni'],\n",
    "    ['Cislo_orientacni','./dtt:Cislo_orientacni'],\n",
    "    ['PSC','./dtt:PSC'],\n",
    "    ['Cislo_do_adresy','./dtt:Cislo_do_adresy']\n",
    "                      ]\n",
    "\n",
    "import numpy as np\n",
    "def set_tag_value(attr_xpath, elem):\n",
    "    if elem.xpath(attr_xpath,namespaces = or_namespaces) != []:\n",
    "        tag_value = elem.xpath(attr_xpath,namespaces = or_namespaces)[0].text\n",
    "    else:\n",
    "        tag_value = None\n",
    "    return tag_value\n",
    "or_sidlo = []\n",
    "for elem in Sidlo:\n",
    "    tag_values = []\n",
    "    for item in sidlo_table_columns_lst:\n",
    "        tag_values.append(set_tag_value(item[1],elem)) \n",
    "    or_sidlo. append(or_sidlo_increment)"
   ]
  },
  {
   "cell_type": "code",
   "execution_count": 134,
   "metadata": {},
   "outputs": [],
   "source": [
    "or_sidlo_pd = pd.DataFrame(columns = sidlo_table_columns_lst[0:][0])"
   ]
  },
  {
   "cell_type": "code",
   "execution_count": 135,
   "metadata": {},
   "outputs": [
    {
     "data": {
      "text/html": [
       "<div>\n",
       "<style scoped>\n",
       "    .dataframe tbody tr th:only-of-type {\n",
       "        vertical-align: middle;\n",
       "    }\n",
       "\n",
       "    .dataframe tbody tr th {\n",
       "        vertical-align: top;\n",
       "    }\n",
       "\n",
       "    .dataframe thead th {\n",
       "        text-align: right;\n",
       "    }\n",
       "</style>\n",
       "<table border=\"1\" class=\"dataframe\">\n",
       "  <thead>\n",
       "    <tr style=\"text-align: right;\">\n",
       "      <th></th>\n",
       "      <th>ID_adresy</th>\n",
       "      <th>./dtt:ID_adresy</th>\n",
       "    </tr>\n",
       "  </thead>\n",
       "  <tbody>\n",
       "  </tbody>\n",
       "</table>\n",
       "</div>"
      ],
      "text/plain": [
       "Empty DataFrame\n",
       "Columns: [ID_adresy, ./dtt:ID_adresy]\n",
       "Index: []"
      ]
     },
     "execution_count": 135,
     "metadata": {},
     "output_type": "execute_result"
    }
   ],
   "source": [
    "or_sidlo_pd"
   ]
  },
  {
   "cell_type": "code",
   "execution_count": 130,
   "metadata": {},
   "outputs": [
    {
     "data": {
      "text/plain": [
       "['29643141',\n",
       " '203',\n",
       " 'Česká republika',\n",
       " None,\n",
       " 'České Budějovice',\n",
       " None,\n",
       " 'Rudolfovská',\n",
       " None,\n",
       " None,\n",
       " None,\n",
       " '37050',\n",
       " '83']"
      ]
     },
     "execution_count": 130,
     "metadata": {},
     "output_type": "execute_result"
    }
   ],
   "source": [
    "import numpy as np\n",
    "npa = np.asarray(tag_values)\n",
    "npa2 = npa.transpose()\n",
    "npa2.tolist()"
   ]
  },
  {
   "cell_type": "code",
   "execution_count": 129,
   "metadata": {},
   "outputs": [
    {
     "data": {
      "text/plain": [
       "array(['29643141', '203', 'Česká republika', None, 'České Budějovice',\n",
       "       None, 'Rudolfovská', None, None, None, '37050', '83'], dtype=object)"
      ]
     },
     "execution_count": 129,
     "metadata": {},
     "output_type": "execute_result"
    }
   ],
   "source": [
    "npa"
   ]
  },
  {
   "cell_type": "code",
   "execution_count": 48,
   "metadata": {},
   "outputs": [],
   "source": [
    "sidlo_table_columns = pd.DataFrame([\n",
    "    ['ID_Adresy','./dtt:ID_Adresy',Sidlo],\n",
    "    ['Kod_statu','./dtt:Kod_statu',Sidlo],\n",
    "    ['Nazev_statu','./dtt:Nazev_statu',Sidlo],\n",
    "    ['Nazev_okresu','./dtt:Nazev_okresu',Sidlo],\n",
    "    ['Nazev_obce','./dtt:Nazev_obce',Sidlo],\n",
    "    ['Nazev_casti_obce','./dtt:Nazev_casti_obce',Sidlo],\n",
    "    ['Nazev_ulice','./dtt:Nazev_ulice',Sidlo],\n",
    "    ['Cislo_domovni','./dtt:Cislo_domovni','Sidlo'],\n",
    "    ['Typ_cislo_domovni','./dtt:Typ_cislo_domovni',Sidlo],\n",
    "    ['Cislo_orientacni','./dtt:Cislo_orientacni',Sidlo],\n",
    "    ['PSC','./dtt:PSC',Sidlo],\n",
    "    ['Cislo_do_adresy','./dtt:Cislo_do_adresy',Sidlo]\n",
    "                      ],columns=(\"Tag\",\"xpath\",'Element'))"
   ]
  },
  {
   "cell_type": "code",
   "execution_count": 62,
   "metadata": {},
   "outputs": [
    {
     "data": {
      "text/plain": [
       "['ID_Adresy',\n",
       " 'Kod_statu',\n",
       " 'Nazev_statu',\n",
       " 'Nazev_okresu',\n",
       " 'Nazev_obce',\n",
       " 'Nazev_casti_obce',\n",
       " 'Nazev_ulice',\n",
       " 'Cislo_domovni',\n",
       " 'Typ_cislo_domovni',\n",
       " 'Cislo_orientacni',\n",
       " 'PSC',\n",
       " 'Cislo_do_adresy']"
      ]
     },
     "execution_count": 62,
     "metadata": {},
     "output_type": "execute_result"
    }
   ],
   "source": [
    "sidlo_table_columns[\"Tag\"].tolist()"
   ]
  },
  {
   "cell_type": "code",
   "execution_count": 20,
   "metadata": {},
   "outputs": [
    {
     "name": "stdout",
     "output_type": "stream",
     "text": [
      "[]\n",
      "[]\n",
      "[<Element {http://wwwinfo.mfcr.cz/ares/xml_doc/schemas/ares/ares_datatypes/v_1.0.2}Cislo_do_adresy at 0xe74a488>]\n",
      "[<Element {http://wwwinfo.mfcr.cz/ares/xml_doc/schemas/ares/ares_datatypes/v_1.0.2}Cislo_do_adresy at 0xe727548>]\n"
     ]
    }
   ],
   "source": [
    "for elem in Sidlo:\n",
    "    a = elem.xpath('./dtt:Cislo_do_adresy',namespaces = or_namespaces)\n",
    "    print(a)"
   ]
  }
 ],
 "metadata": {
  "kernelspec": {
   "display_name": "Python 3",
   "language": "python",
   "name": "python3"
  },
  "language_info": {
   "codemirror_mode": {
    "name": "ipython",
    "version": 3
   },
   "file_extension": ".py",
   "mimetype": "text/x-python",
   "name": "python",
   "nbconvert_exporter": "python",
   "pygments_lexer": "ipython3",
   "version": "3.6.3"
  }
 },
 "nbformat": 4,
 "nbformat_minor": 2
}
