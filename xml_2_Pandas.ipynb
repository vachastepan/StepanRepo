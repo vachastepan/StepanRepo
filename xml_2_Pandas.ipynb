{
 "cells": [
  {
   "cell_type": "code",
   "execution_count": 43,
   "metadata": {},
   "outputs": [
    {
     "data": {
      "text/html": [
       "<div>\n",
       "<style scoped>\n",
       "    .dataframe tbody tr th:only-of-type {\n",
       "        vertical-align: middle;\n",
       "    }\n",
       "\n",
       "    .dataframe tbody tr th {\n",
       "        vertical-align: top;\n",
       "    }\n",
       "\n",
       "    .dataframe thead th {\n",
       "        text-align: right;\n",
       "    }\n",
       "</style>\n",
       "<table border=\"1\" class=\"dataframe\">\n",
       "  <thead>\n",
       "    <tr style=\"text-align: right;\">\n",
       "      <th></th>\n",
       "      <th>ICO</th>\n",
       "      <th>Aktualizace_DB</th>\n",
       "      <th>Datum_vypisu</th>\n",
       "      <th>Stav_subjektu</th>\n",
       "      <th>Konkurz</th>\n",
       "      <th>Vyrovnani</th>\n",
       "      <th>Zamitnuti</th>\n",
       "      <th>Likvidace</th>\n",
       "      <th>Datum_zapisu_OR</th>\n",
       "      <th>Kod_PF</th>\n",
       "      <th>Nazev_PF</th>\n",
       "      <th>PF_osoba</th>\n",
       "      <th>TZU_osoba</th>\n",
       "    </tr>\n",
       "  </thead>\n",
       "  <tbody>\n",
       "    <tr>\n",
       "      <th>0</th>\n",
       "      <td>63275635</td>\n",
       "      <td>2018-08-22</td>\n",
       "      <td>2018-08-23</td>\n",
       "      <td>Aktivní</td>\n",
       "      <td>0</td>\n",
       "      <td>0</td>\n",
       "      <td>0</td>\n",
       "      <td>0</td>\n",
       "      <td>121</td>\n",
       "      <td>Akciová společnost</td>\n",
       "      <td>P</td>\n",
       "      <td>Tuzemská</td>\n",
       "      <td>None</td>\n",
       "    </tr>\n",
       "    <tr>\n",
       "      <th>1</th>\n",
       "      <td>63275635</td>\n",
       "      <td>2018-08-22</td>\n",
       "      <td>2018-08-23</td>\n",
       "      <td>Aktivní</td>\n",
       "      <td>0</td>\n",
       "      <td>0</td>\n",
       "      <td>0</td>\n",
       "      <td>0</td>\n",
       "      <td>1995-08-01</td>\n",
       "      <td>121</td>\n",
       "      <td>Akciová společnost</td>\n",
       "      <td>P</td>\n",
       "      <td>Tuzemská</td>\n",
       "    </tr>\n",
       "  </tbody>\n",
       "</table>\n",
       "</div>"
      ],
      "text/plain": [
       "        ICO Aktualizace_DB Datum_vypisu Stav_subjektu Konkurz Vyrovnani  \\\n",
       "0  63275635     2018-08-22   2018-08-23       Aktivní       0         0   \n",
       "1  63275635     2018-08-22   2018-08-23       Aktivní       0         0   \n",
       "\n",
       "  Zamitnuti Likvidace Datum_zapisu_OR              Kod_PF            Nazev_PF  \\\n",
       "0         0         0             121  Akciová společnost                   P   \n",
       "1         0         0      1995-08-01                 121  Akciová společnost   \n",
       "\n",
       "   PF_osoba TZU_osoba  \n",
       "0  Tuzemská      None  \n",
       "1         P  Tuzemská  "
      ]
     },
     "execution_count": 43,
     "metadata": {},
     "output_type": "execute_result"
    }
   ],
   "source": [
    "from lxml import etree as ET\n",
    "import pandas as pd\n",
    "xml_data = ET.parse(\"darv_or.xml\")\n",
    "or_namespaces = {'are': 'http://wwwinfo.mfcr.cz/ares/xml_doc/schemas/ares/ares_answer_or/v_1.0.2', \n",
    "              'dtt': 'http://wwwinfo.mfcr.cz/ares/xml_doc/schemas/ares/ares_datatypes/v_1.0.2',\n",
    "              'udt': 'http://wwwinfo.mfcr.cz/ares/xml_doc/schemas/uvis_datatypes/v_1.0.1',\n",
    "              'xsi': 'http://www.w3.org/2001/XMLSchema-instance'\n",
    "             }\n",
    "\n",
    "# Vypis Vypis_OR/Uvod\n",
    "Aktualizace_DB = xml_data.xpath('./are:Odpoved/dtt:Vypis_OR/dtt:Uvod/dtt:Aktualizace_DB',namespaces = or_namespaces)[0].text\n",
    "Datum_vypisu = xml_data.xpath('./are:Odpoved/dtt:Vypis_OR/dtt:Uvod/dtt:Datum_vypisu',namespaces = or_namespaces)[0].text\n",
    "\n",
    "# Zakladni_udaje\n",
    "ICO = xml_data.xpath('./are:Odpoved/dtt:Vypis_OR/dtt:Zakladni_udaje/dtt:ICO',namespaces = or_namespaces)[0].text\n",
    "Stav_subjektu = xml_data.xpath('./are:Odpoved/dtt:Vypis_OR/dtt:Zakladni_udaje/dtt:Stav/dtt:Stav_subjektu',namespaces = or_namespaces)[0].text\n",
    "Konkurz = xml_data.xpath('./are:Odpoved/dtt:Vypis_OR/dtt:Zakladni_udaje/dtt:Stav/dtt:Konkurz/dtt:Kod',namespaces = or_namespaces)[0].text\n",
    "Vyrovnani = xml_data.xpath('./are:Odpoved/dtt:Vypis_OR/dtt:Zakladni_udaje/dtt:Stav/dtt:Vyrovnani/dtt:Kod',namespaces = or_namespaces)[0].text\n",
    "Zamitnuti = xml_data.xpath('./are:Odpoved/dtt:Vypis_OR/dtt:Zakladni_udaje/dtt:Stav/dtt:Zamitnuti/dtt:Kod',namespaces = or_namespaces)[0].text\n",
    "Likvidace = xml_data.xpath('./are:Odpoved/dtt:Vypis_OR/dtt:Zakladni_udaje/dtt:Stav/dtt:Likvidace/dtt:Kod',namespaces = or_namespaces)[0].text\n",
    "Datum_zapisu_OR = xml_data.xpath('./are:Odpoved/dtt:Vypis_OR/dtt:Zakladni_udaje/dtt:Datum_zapisu_OR',namespaces = or_namespaces)[0].text\n",
    "\n",
    "# Pravni_forma_OR\n",
    "Kod_PF = xml_data.xpath('./are:Odpoved/dtt:Vypis_OR/dtt:Zakladni_udaje/dtt:Pravni_forma_OR/dtt:Kod_PF',namespaces = or_namespaces)[0].text\n",
    "Nazev_PF = xml_data.xpath('./are:Odpoved/dtt:Vypis_OR/dtt:Zakladni_udaje/dtt:Pravni_forma_OR/dtt:Nazev_PF',namespaces = or_namespaces)[0].text\n",
    "PF_osoba = xml_data.xpath('./are:Odpoved/dtt:Vypis_OR/dtt:Zakladni_udaje/dtt:Pravni_forma_OR/dtt:PF_osoba',namespaces = or_namespaces)[0].text\n",
    "TZU_osoba = xml_data.xpath('./are:Odpoved/dtt:Vypis_OR/dtt:Zakladni_udaje/dtt:Pravni_forma_OR/dtt:TZU_osoba',namespaces = or_namespaces)[0].text\n",
    "\n",
    "or_basic_info_columns = [\"ICO\",\"Aktualizace_DB\",\"Datum_vypisu\",\"Stav_subjektu\",\"Konkurz\",\"Vyrovnani\",\n",
    "                        \"Zamitnuti\",\"Likvidace\",\"Datum_zapisu_OR\",\"Kod_PF\",\"Nazev_PF\",\"PF_osoba\",\"TZU_osoba\"]\n",
    "\n",
    "or_data_increment = [ICO, Aktualizace_DB, Datum_vypisu,Stav_subjektu,Konkurz,Vyrovnani,Zamitnuti,Likvidace,Datum_zapisu_OR,Kod_PF,\n",
    "                     Nazev_PF,PF_osoba,TZU_osoba]\n",
    "or_data.append(or_data_increment)\n",
    "or_basic_info = pd.DataFrame(or_data,columns=or_basic_info_columns)\n",
    "   \n",
    "or_basic_info.head(5)"
   ]
  },
  {
   "cell_type": "code",
   "execution_count": 45,
   "metadata": {},
   "outputs": [
    {
     "data": {
      "text/html": [
       "<style>.container { width:80% !important; }</style>"
      ],
      "text/plain": [
       "<IPython.core.display.HTML object>"
      ]
     },
     "metadata": {},
     "output_type": "display_data"
    }
   ],
   "source": [
    "from IPython.core.display import display, HTML\n",
    "display(HTML(\"<style>.container { width:80% !important; }</style>\"))"
   ]
  }
 ],
 "metadata": {
  "kernelspec": {
   "display_name": "Python 3",
   "language": "python",
   "name": "python3"
  },
  "language_info": {
   "codemirror_mode": {
    "name": "ipython",
    "version": 3
   },
   "file_extension": ".py",
   "mimetype": "text/x-python",
   "name": "python",
   "nbconvert_exporter": "python",
   "pygments_lexer": "ipython3",
   "version": "3.6.3"
  }
 },
 "nbformat": 4,
 "nbformat_minor": 2
}
