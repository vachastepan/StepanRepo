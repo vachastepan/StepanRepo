{
 "cells": [
  {
   "cell_type": "markdown",
   "metadata": {},
   "source": [
    "### Functions\n",
    "(!) Pozor je nutné zkontrolovat, že tam jsou všechny namespacy"
   ]
  },
  {
   "cell_type": "code",
   "execution_count": 13,
   "metadata": {},
   "outputs": [],
   "source": [
    "from lxml import etree as ElementTree\n",
    "import pandas as pd\n",
    "\n",
    "# Nahrazení namespaců, aby bylo lépe čitelné\n",
    "\n",
    "or_namespaces = {'xsd': 'http://www.w3.org/2001/XMLSchema'\n",
    "             }\n",
    "inverse_or_namespaces = {v: k for k, v in or_namespaces.items()}\n",
    "def replace_ns(path_w_ns):\n",
    "    for key, name in inverse_or_namespaces.items():\n",
    "        path_w_ns = path_w_ns.replace(key, name)\n",
    "    path_wo_ns = path_w_ns\n",
    "    path_wo_ns = path_wo_ns.replace('{','')\n",
    "    path_wo_ns = path_wo_ns.replace('}',':')\n",
    "    return path_wo_ns\n",
    "\n",
    "# Elementy XML a jejich xpath cesty\n",
    "def etree_iter_path(node, tag=None, path='.'):\n",
    "    if tag == \"*\":\n",
    "        tag = None\n",
    "    if tag is None or node.tag == tag:\n",
    "        yield node, path\n",
    "    for child in node:\n",
    "        _child_path = '%s/%s' % (path, child.tag)\n",
    "        for child, child_path in etree_iter_path(child, tag, path=_child_path):\n",
    "            yield child, child_path\n",
    "\n",
    "# Dotažení info o XML do pd.DataFrame\n",
    "def xml_paths_no_dupl(filename):\n",
    "    xmldoc = ElementTree.parse(filename)\n",
    "    list_data = []\n",
    "    for elem, path in etree_iter_path(xmldoc.getroot()):\n",
    "        elem_parent = ''\n",
    "        if elem.getparent() is not None:\n",
    "            elem_parent = replace_ns(elem.getparent().tag)\n",
    "        attribu = elem.attrib\n",
    "        attr_keys_string = \",\".join(attribu.keys())\n",
    "        list_data.append([replace_ns(elem.tag), elem_parent,attr_keys_string,replace_ns(path)])\n",
    "    pd_data = pd.DataFrame(list_data, columns = ['Tag','Parent_Tag','Attributes','xPath'])\n",
    "    pd_no_dupl = pd_data.drop_duplicates()\n",
    "    return pd_no_dupl"
   ]
  },
  {
   "cell_type": "markdown",
   "metadata": {},
   "source": [
    "### Profile xml files\n",
    "1. Check xml files folder\n",
    "1. Check all xpaths and return dataframe\n",
    "1. Export data frame to excel"
   ]
  },
  {
   "cell_type": "code",
   "execution_count": 14,
   "metadata": {},
   "outputs": [
    {
     "data": {
      "text/plain": [
       "['ares_datatypes_v_1.0.2.xsd']"
      ]
     },
     "execution_count": 14,
     "metadata": {},
     "output_type": "execute_result"
    }
   ],
   "source": [
    "import os\n",
    "files_to_profile = os.listdir('./xsd')\n",
    "files_to_profile"
   ]
  },
  {
   "cell_type": "code",
   "execution_count": 15,
   "metadata": {},
   "outputs": [],
   "source": [
    "complet = pd.DataFrame(columns = ['Tag','Parent_Tag','Attributes','xPath'])\n",
    "\n",
    "for file in files_to_profile:\n",
    "    filename = './xsd/'+file\n",
    "    result = xml_paths_no_dupl(filename)\n",
    "    complet = pd.concat([complet, result])\n",
    "comp_no_dup=complet.drop_duplicates()"
   ]
  },
  {
   "cell_type": "code",
   "execution_count": 17,
   "metadata": {},
   "outputs": [],
   "source": [
    "\"\"\"Zapsání \"\"\"\n",
    "# Create a Pandas Excel writer using XlsxWriter as the engine.\n",
    "writer = pd.ExcelWriter('xsd_profile.xlsx')\n",
    "\n",
    "# Convert the dataframe to an XlsxWriter Excel object.\n",
    "comp_no_dup.to_excel(writer, sheet_name='Sheet1')\n",
    "\n",
    "# Close the Pandas Excel writer and output the Excel file.\n",
    "writer.save()"
   ]
  }
 ],
 "metadata": {
  "kernelspec": {
   "display_name": "Python 3",
   "language": "python",
   "name": "python3"
  },
  "language_info": {
   "codemirror_mode": {
    "name": "ipython",
    "version": 3
   },
   "file_extension": ".py",
   "mimetype": "text/x-python",
   "name": "python",
   "nbconvert_exporter": "python",
   "pygments_lexer": "ipython3",
   "version": "3.6.2"
  }
 },
 "nbformat": 4,
 "nbformat_minor": 2
}
